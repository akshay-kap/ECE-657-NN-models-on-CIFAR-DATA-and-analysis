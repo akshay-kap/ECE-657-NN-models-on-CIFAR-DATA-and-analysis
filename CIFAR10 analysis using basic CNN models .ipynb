{
  "nbformat": 4,
  "nbformat_minor": 0,
  "metadata": {
    "colab": {
      "name": "14July2020.ipynb",
      "provenance": [],
      "collapsed_sections": [
        "kYBQmvLAVtNp"
      ]
    },
    "kernelspec": {
      "name": "python3",
      "display_name": "Python 3"
    },
    "accelerator": "GPU"
  },
  "cells": [
    {
      "cell_type": "markdown",
      "metadata": {
        "id": "eJwbtLGO77eR",
        "colab_type": "text"
      },
      "source": [
        "## Loading the required libraries"
      ]
    },
    {
      "cell_type": "code",
      "metadata": {
        "id": "M7RELCPD23cD",
        "colab_type": "code",
        "colab": {}
      },
      "source": [
        "import tensorflow as tf\n",
        "import numpy as np\n",
        "import matplotlib.pyplot as plt\n",
        "import pandas as pd\n",
        "from tensorflow.keras.utils import to_categorical\n",
        "from tensorflow.keras.optimizers import Adam\n"
      ],
      "execution_count": 95,
      "outputs": []
    },
    {
      "cell_type": "code",
      "metadata": {
        "id": "iVj4ODF20Hbm",
        "colab_type": "code",
        "colab": {}
      },
      "source": [
        "# setting random seed as 42\n",
        "tf.random.set_seed(42)"
      ],
      "execution_count": 96,
      "outputs": []
    },
    {
      "cell_type": "markdown",
      "metadata": {
        "id": "tCrZDUv67wSE",
        "colab_type": "text"
      },
      "source": [
        "\n",
        "## Loading the CIFAR 10 Data\n",
        "\n"
      ]
    },
    {
      "cell_type": "code",
      "metadata": {
        "id": "EM3_5tHZ75iO",
        "colab_type": "code",
        "colab": {}
      },
      "source": [
        "(x_train, y_train), (x_test, y_test) = tf.keras.datasets.cifar10.load_data()"
      ],
      "execution_count": 97,
      "outputs": []
    },
    {
      "cell_type": "markdown",
      "metadata": {
        "id": "9WQpiKSZ8zwX",
        "colab_type": "text"
      },
      "source": [
        "### Randomly sampling 20% of data from total training data"
      ]
    },
    {
      "cell_type": "code",
      "metadata": {
        "id": "NVW6ZB8s8ONh",
        "colab_type": "code",
        "colab": {}
      },
      "source": [
        "## using code block from https://stackoverflow.com/questions/4601373/better-way-to-shuffle-two-numpy-arrays-in-unison\n",
        "\n",
        "# function to randomly sample 20% training data\n",
        "np.random.seed(42)\n",
        "\n",
        "def unison_shuffled_copies(a, b):\n",
        "  \"\"\"\n",
        "  It takes input as two numpy arrays of same shape\n",
        "  returns a shuffled arrays with 20% of randomly samples data\n",
        "  \"\"\"\n",
        "  assert len(a) == len(b)\n",
        "  p = np.random.permutation(int(len(a)*0.2))\n",
        "  return a[p], b[p]\n",
        "\n",
        "x_train,y_train = unison_shuffled_copies(x_train,y_train)\n"
      ],
      "execution_count": 98,
      "outputs": []
    },
    {
      "cell_type": "code",
      "metadata": {
        "id": "4x2GkGHy8YI9",
        "colab_type": "code",
        "colab": {
          "base_uri": "https://localhost:8080/",
          "height": 50
        },
        "outputId": "79364b8f-bc48-401b-fa00-7912a59b71b8"
      },
      "source": [
        "print(\"shape of shuffled training data is \",x_train.shape)\n",
        "print(\"shape of shuffled training labels is\", y_train.shape)"
      ],
      "execution_count": 99,
      "outputs": [
        {
          "output_type": "stream",
          "text": [
            "shape of shuffled training data is  (10000, 32, 32, 3)\n",
            "shape of shuffled training labels is (10000, 1)\n"
          ],
          "name": "stdout"
        }
      ]
    },
    {
      "cell_type": "markdown",
      "metadata": {
        "id": "VtoWoYe3_lBU",
        "colab_type": "text"
      },
      "source": [
        "### Lets see distribution of classes in the dataset"
      ]
    },
    {
      "cell_type": "code",
      "metadata": {
        "id": "doYlxL75-DmF",
        "colab_type": "code",
        "colab": {}
      },
      "source": [
        "# finding unique classes and corresponding counts\n",
        "num_classes, num_count = np.unique(y_train, return_counts= True)\n",
        "train_class_dict  = {\"class\":num_classes, \"count\":num_count}\n",
        "train_class_dist = pd.DataFrame.from_dict(train_class_dict)"
      ],
      "execution_count": 100,
      "outputs": []
    },
    {
      "cell_type": "code",
      "metadata": {
        "id": "No4rEpOK-iYA",
        "colab_type": "code",
        "colab": {
          "base_uri": "https://localhost:8080/",
          "height": 312
        },
        "outputId": "02b203fb-fa28-4533-bbdf-700cc985c8c7"
      },
      "source": [
        "# plotting bar plots to see if we have sufficient number of examples of each class\n",
        "plt.bar(train_class_dist[\"class\"],train_class_dist[\"count\"])\n",
        "plt.xlabel(\"category\")\n",
        "plt.ylabel(\"count\")\n",
        "plt.title(\"counts for each category\")"
      ],
      "execution_count": 101,
      "outputs": [
        {
          "output_type": "execute_result",
          "data": {
            "text/plain": [
              "Text(0.5, 1.0, 'counts for each category')"
            ]
          },
          "metadata": {
            "tags": []
          },
          "execution_count": 101
        },
        {
          "output_type": "display_data",
          "data": {
            "image/png": "[encoded data removed]",
            "text/plain": [
              "<Figure size 432x288 with 1 Axes>"
            ]
          },
          "metadata": {
            "tags": [],
            "needs_background": "light"
          }
        }
      ]
    },
    {
      "cell_type": "markdown",
      "metadata": {
        "id": "G_Mis1p7DBYQ",
        "colab_type": "text"
      },
      "source": [
        "Thus we can say we have approximately 1000 examples of each of these classes"
      ]
    },
    {
      "cell_type": "markdown",
      "metadata": {
        "id": "m_rstO_KDPSE",
        "colab_type": "text"
      },
      "source": [
        "## Splitting the testing data into validation and testing data"
      ]
    },
    {
      "cell_type": "code",
      "metadata": {
        "id": "p6gRvebn-yEG",
        "colab_type": "code",
        "colab": {}
      },
      "source": [
        "## lets randomize the testing data first and then we will split it into 50-50 ratio for testing and validation set\n",
        "\n",
        "def unison_shuffled_copies_full(a, b):\n",
        "  \"\"\"\n",
        "  It takes input as two numpy arrays of same shape\n",
        "  returns a shuffled arrays with of randomly samples data\n",
        "  \"\"\"\n",
        "  assert len(a) == len(b)\n",
        "  p = np.random.permutation(len(a))\n",
        "  return a[p], b[p]\n",
        "\n",
        "x_test,y_test = unison_shuffled_copies_full(x_test,y_test)\n"
      ],
      "execution_count": 102,
      "outputs": []
    },
    {
      "cell_type": "code",
      "metadata": {
        "id": "dIS9bRDoEMKD",
        "colab_type": "code",
        "colab": {
          "base_uri": "https://localhost:8080/",
          "height": 50
        },
        "outputId": "0ac3270d-2907-49f8-edd9-f6233f960c69"
      },
      "source": [
        "print(\"shape of shuffed x_test before splitting is \", x_test.shape)\n",
        "print(\"shape of shuffled y_test before splitting is \", y_test.shape)\n"
      ],
      "execution_count": 103,
      "outputs": [
        {
          "output_type": "stream",
          "text": [
            "shape of shuffed x_test before splitting is  (10000, 32, 32, 3)\n",
            "shape of shuffled y_test before splitting is  (10000, 1)\n"
          ],
          "name": "stdout"
        }
      ]
    },
    {
      "cell_type": "markdown",
      "metadata": {
        "id": "RIDtNXcADArc",
        "colab_type": "text"
      },
      "source": [
        "### Splitting test data into validation and train data"
      ]
    },
    {
      "cell_type": "code",
      "metadata": {
        "id": "TQv6qvYWC_GU",
        "colab_type": "code",
        "colab": {}
      },
      "source": [
        "x_val = x_test[:5000,]\n",
        "y_val = y_test[:5000]\n",
        "x_test = x_test[5000:]\n",
        "y_test = y_test[5000:]"
      ],
      "execution_count": 104,
      "outputs": []
    },
    {
      "cell_type": "code",
      "metadata": {
        "id": "bSGf8CHI_Jun",
        "colab_type": "code",
        "colab": {
          "base_uri": "https://localhost:8080/",
          "height": 84
        },
        "outputId": "46d9d09e-d7f1-4e3e-ab57-3b9cad1cb5b7"
      },
      "source": [
        "print(\"shape of x_val is\",x_val.shape)\n",
        "print(\"shape of y_val is\",y_val.shape)\n",
        "print(\"shape of x_test is\",x_test.shape)\n",
        "print(\"shape of y_test is\",y_test.shape)"
      ],
      "execution_count": 105,
      "outputs": [
        {
          "output_type": "stream",
          "text": [
            "shape of x_val is (5000, 32, 32, 3)\n",
            "shape of y_val is (5000, 1)\n",
            "shape of x_test is (5000, 32, 32, 3)\n",
            "shape of y_test is (5000, 1)\n"
          ],
          "name": "stdout"
        }
      ]
    },
    {
      "cell_type": "markdown",
      "metadata": {
        "id": "o3kN4hGTFscB",
        "colab_type": "text"
      },
      "source": [
        "## Preprocessing Dataset before training"
      ]
    },
    {
      "cell_type": "markdown",
      "metadata": {
        "id": "2SSekDMAG1DO",
        "colab_type": "text"
      },
      "source": [
        "#### Preprocessing the training features"
      ]
    },
    {
      "cell_type": "code",
      "metadata": {
        "id": "9Sn9FUJ0FBza",
        "colab_type": "code",
        "colab": {}
      },
      "source": [
        "### converting integer coded pixels to float values before training\n",
        "\n",
        "x_train_p = x_train.astype('float32')\n",
        "x_val_p = x_val.astype('float32')\n",
        "x_test_p = x_test.astype('float32')\n",
        "\n",
        "### Normalizing the pixel (0-1) values to faster convergence of neural network\n",
        "x_train_p = x_train_p/255.0\n",
        "x_val_p = x_val_p/255.0\n",
        "x_test_p = x_test_p/255.0"
      ],
      "execution_count": 106,
      "outputs": []
    },
    {
      "cell_type": "markdown",
      "metadata": {
        "id": "nGSNUKusTMLP",
        "colab_type": "text"
      },
      "source": [
        "### Converting labels to one hot encoded labels"
      ]
    },
    {
      "cell_type": "code",
      "metadata": {
        "id": "50NUdsCKGzAB",
        "colab_type": "code",
        "colab": {}
      },
      "source": [
        "y_train_p = to_categorical(y_train, num_classes=10)\n",
        "y_val_p = to_categorical(y_val, num_classes=10)\n",
        "y_test_p = to_categorical(y_test, num_classes=10)"
      ],
      "execution_count": 107,
      "outputs": []
    },
    {
      "cell_type": "code",
      "metadata": {
        "id": "BNSlzFCES19u",
        "colab_type": "code",
        "colab": {
          "base_uri": "https://localhost:8080/",
          "height": 67
        },
        "outputId": "03d9b783-1d95-48cc-89f5-feb11e2c2df8"
      },
      "source": [
        "print(\"shape of processed trained label matrix is \",y_train_p.shape)\n",
        "print(\"shape of processed testing set label matrix is \",y_test_p.shape)\n",
        "print(\"shape of processed validation label matrix is \",y_val_p.shape)"
      ],
      "execution_count": 108,
      "outputs": [
        {
          "output_type": "stream",
          "text": [
            "shape of processed trained label matrix is  (10000, 10)\n",
            "shape of processed testing set label matrix is  (5000, 10)\n",
            "shape of processed validation label matrix is  (5000, 10)\n"
          ],
          "name": "stdout"
        }
      ]
    },
    {
      "cell_type": "markdown",
      "metadata": {
        "id": "gvj_hLbzTI23",
        "colab_type": "text"
      },
      "source": [
        "## Defining the model for part 1"
      ]
    },
    {
      "cell_type": "markdown",
      "metadata": {
        "id": "8qpxH2Ie0PiK",
        "colab_type": "text"
      },
      "source": [
        "### Base Model with 2 hidden one output and one input layer"
      ]
    },
    {
      "cell_type": "code",
      "metadata": {
        "id": "5GdUJCbqUJxt",
        "colab_type": "code",
        "colab": {}
      },
      "source": [
        "model = tf.keras.models.Sequential([\n",
        "    tf.keras.layers.Flatten(input_shape = (32,32,3)),    \n",
        "    tf.keras.layers.Dense(512, activation = 'sigmoid'),\n",
        "    tf.keras.layers.Dense(512, activation = 'sigmoid'),\n",
        "    tf.keras.layers.Dense(10, activation = 'softmax') \n",
        "])"
      ],
      "execution_count": 109,
      "outputs": []
    },
    {
      "cell_type": "markdown",
      "metadata": {
        "id": "kYBQmvLAVtNp",
        "colab_type": "text"
      },
      "source": [
        "#### lets have a look at model architecture"
      ]
    },
    {
      "cell_type": "code",
      "metadata": {
        "id": "sTzlXqXJTHMr",
        "colab_type": "code",
        "colab": {
          "base_uri": "https://localhost:8080/",
          "height": 284
        },
        "outputId": "fc308ab8-4211-43b6-f499-682d8759d0db"
      },
      "source": [
        "model.summary()"
      ],
      "execution_count": 110,
      "outputs": [
        {
          "output_type": "stream",
          "text": [
            "Model: \"sequential_11\"\n",
            "_________________________________________________________________\n",
            "Layer (type)                 Output Shape              Param #   \n",
            "=================================================================\n",
            "flatten_11 (Flatten)         (None, 3072)              0         \n",
            "_________________________________________________________________\n",
            "dense_42 (Dense)             (None, 512)               1573376   \n",
            "_________________________________________________________________\n",
            "dense_43 (Dense)             (None, 512)               262656    \n",
            "_________________________________________________________________\n",
            "dense_44 (Dense)             (None, 10)                5130      \n",
            "=================================================================\n",
            "Total params: 1,841,162\n",
            "Trainable params: 1,841,162\n",
            "Non-trainable params: 0\n",
            "_________________________________________________________________\n"
          ],
          "name": "stdout"
        }
      ]
    },
    {
      "cell_type": "markdown",
      "metadata": {
        "id": "gTHEQgeyVyki",
        "colab_type": "text"
      },
      "source": [
        "#### Compiling the model"
      ]
    },
    {
      "cell_type": "code",
      "metadata": {
        "id": "7_YHW3YzVkzG",
        "colab_type": "code",
        "colab": {}
      },
      "source": [
        "model.compile(optimizer=Adam(), loss='categorical_crossentropy', metrics=['accuracy'])"
      ],
      "execution_count": 111,
      "outputs": []
    },
    {
      "cell_type": "code",
      "metadata": {
        "id": "Xs4kq4fdV6oJ",
        "colab_type": "code",
        "colab": {
          "base_uri": "https://localhost:8080/",
          "height": 184
        },
        "outputId": "74955efb-a45f-42c8-f601-83480700fcec"
      },
      "source": [
        "history_l3_n_512= model.fit(x =x_train_p, y=y_train_p,validation_data=(x_val_p, y_val_p), epochs=5,verbose=1, batch_size =32 )"
      ],
      "execution_count": 112,
      "outputs": [
        {
          "output_type": "stream",
          "text": [
            "Epoch 1/5\n",
            "313/313 [==============================] - 1s 4ms/step - loss: 2.0568 - accuracy: 0.2399 - val_loss: 1.9104 - val_accuracy: 0.3062\n",
            "Epoch 2/5\n",
            "313/313 [==============================] - 1s 4ms/step - loss: 1.8823 - accuracy: 0.3145 - val_loss: 1.9390 - val_accuracy: 0.2856\n",
            "Epoch 3/5\n",
            "313/313 [==============================] - 1s 4ms/step - loss: 1.8280 - accuracy: 0.3347 - val_loss: 1.8649 - val_accuracy: 0.3248\n",
            "Epoch 4/5\n",
            "313/313 [==============================] - 1s 4ms/step - loss: 1.7838 - accuracy: 0.3500 - val_loss: 1.8654 - val_accuracy: 0.3234\n",
            "Epoch 5/5\n",
            "313/313 [==============================] - 1s 4ms/step - loss: 1.7486 - accuracy: 0.3638 - val_loss: 1.7721 - val_accuracy: 0.3488\n"
          ],
          "name": "stdout"
        }
      ]
    },
    {
      "cell_type": "markdown",
      "metadata": {
        "id": "1qVhnzM20fl6",
        "colab_type": "text"
      },
      "source": [
        "### Experimenting with MLP models"
      ]
    },
    {
      "cell_type": "markdown",
      "metadata": {
        "id": "0ChCHLxSYazS",
        "colab_type": "text"
      },
      "source": [
        "#### 4 layer network with 512 nodes"
      ]
    },
    {
      "cell_type": "code",
      "metadata": {
        "id": "aBjyg5I_XLEU",
        "colab_type": "code",
        "colab": {}
      },
      "source": [
        "model_l4_n512 = tf.keras.models.Sequential([\n",
        "    tf.keras.layers.Flatten(input_shape = (32,32,3)),    \n",
        "    tf.keras.layers.Dense(512, activation = 'sigmoid'),\n",
        "    tf.keras.layers.Dense(512, activation = 'sigmoid'),\n",
        "    tf.keras.layers.Dense(512, activation = 'sigmoid'),\n",
        "    tf.keras.layers.Dense(10, activation = 'softmax') \n",
        "])"
      ],
      "execution_count": 113,
      "outputs": []
    },
    {
      "cell_type": "code",
      "metadata": {
        "id": "xnBa68BlXv17",
        "colab_type": "code",
        "colab": {
          "base_uri": "https://localhost:8080/",
          "height": 318
        },
        "outputId": "e88e479c-bd6b-4a71-a239-fcba6926ff12"
      },
      "source": [
        "model_l4_n512.summary()"
      ],
      "execution_count": 114,
      "outputs": [
        {
          "output_type": "stream",
          "text": [
            "Model: \"sequential_12\"\n",
            "_________________________________________________________________\n",
            "Layer (type)                 Output Shape              Param #   \n",
            "=================================================================\n",
            "flatten_12 (Flatten)         (None, 3072)              0         \n",
            "_________________________________________________________________\n",
            "dense_45 (Dense)             (None, 512)               1573376   \n",
            "_________________________________________________________________\n",
            "dense_46 (Dense)             (None, 512)               262656    \n",
            "_________________________________________________________________\n",
            "dense_47 (Dense)             (None, 512)               262656    \n",
            "_________________________________________________________________\n",
            "dense_48 (Dense)             (None, 10)                5130      \n",
            "=================================================================\n",
            "Total params: 2,103,818\n",
            "Trainable params: 2,103,818\n",
            "Non-trainable params: 0\n",
            "_________________________________________________________________\n"
          ],
          "name": "stdout"
        }
      ]
    },
    {
      "cell_type": "code",
      "metadata": {
        "id": "XIaWpbkhX2xf",
        "colab_type": "code",
        "colab": {}
      },
      "source": [
        "model_l4_n512.compile(optimizer=Adam(), loss='categorical_crossentropy', metrics=['accuracy'])"
      ],
      "execution_count": 115,
      "outputs": []
    },
    {
      "cell_type": "code",
      "metadata": {
        "id": "Or1O1JyBYDO1",
        "colab_type": "code",
        "colab": {
          "base_uri": "https://localhost:8080/",
          "height": 184
        },
        "outputId": "a7d25750-e068-4d85-b50b-1493311dd111"
      },
      "source": [
        "history_l4_n_512= model_l4_n512.fit(x =x_train_p, y=y_train_p,validation_data=(x_val_p, y_val_p), epochs=5,verbose=1, batch_size =32  )"
      ],
      "execution_count": 116,
      "outputs": [
        {
          "output_type": "stream",
          "text": [
            "Epoch 1/5\n",
            "313/313 [==============================] - 1s 4ms/step - loss: 2.1135 - accuracy: 0.2059 - val_loss: 1.9780 - val_accuracy: 0.2638\n",
            "Epoch 2/5\n",
            "313/313 [==============================] - 1s 4ms/step - loss: 1.9464 - accuracy: 0.2756 - val_loss: 1.9733 - val_accuracy: 0.2740\n",
            "Epoch 3/5\n",
            "313/313 [==============================] - 1s 4ms/step - loss: 1.8914 - accuracy: 0.3009 - val_loss: 1.9118 - val_accuracy: 0.2940\n",
            "Epoch 4/5\n",
            "313/313 [==============================] - 1s 4ms/step - loss: 1.8525 - accuracy: 0.3166 - val_loss: 1.8530 - val_accuracy: 0.3212\n",
            "Epoch 5/5\n",
            "313/313 [==============================] - 1s 4ms/step - loss: 1.8305 - accuracy: 0.3215 - val_loss: 1.8400 - val_accuracy: 0.3344\n"
          ],
          "name": "stdout"
        }
      ]
    },
    {
      "cell_type": "markdown",
      "metadata": {
        "id": "haSf6nwvYjiF",
        "colab_type": "text"
      },
      "source": [
        "#### 5 layer network with 512 nodes"
      ]
    },
    {
      "cell_type": "code",
      "metadata": {
        "colab_type": "code",
        "id": "7n9SQKTaYW7S",
        "colab": {}
      },
      "source": [
        "model_l5_n512 = tf.keras.models.Sequential([\n",
        "    tf.keras.layers.Flatten(input_shape = (32,32,3)),    \n",
        "    tf.keras.layers.Dense(512, activation = 'sigmoid'),\n",
        "    tf.keras.layers.Dense(512, activation = 'sigmoid'),\n",
        "    tf.keras.layers.Dense(512, activation = 'sigmoid'),\n",
        "    tf.keras.layers.Dense(512, activation = 'sigmoid'),\n",
        "    tf.keras.layers.Dense(10, activation = 'softmax') \n",
        "])"
      ],
      "execution_count": 117,
      "outputs": []
    },
    {
      "cell_type": "code",
      "metadata": {
        "colab_type": "code",
        "id": "XuOXfgDyYW7V",
        "colab": {
          "base_uri": "https://localhost:8080/",
          "height": 351
        },
        "outputId": "bf23e78b-6f7d-49d3-b59e-62b87fc5cce2"
      },
      "source": [
        "model_l5_n512.summary()"
      ],
      "execution_count": 118,
      "outputs": [
        {
          "output_type": "stream",
          "text": [
            "Model: \"sequential_13\"\n",
            "_________________________________________________________________\n",
            "Layer (type)                 Output Shape              Param #   \n",
            "=================================================================\n",
            "flatten_13 (Flatten)         (None, 3072)              0         \n",
            "_________________________________________________________________\n",
            "dense_49 (Dense)             (None, 512)               1573376   \n",
            "_________________________________________________________________\n",
            "dense_50 (Dense)             (None, 512)               262656    \n",
            "_________________________________________________________________\n",
            "dense_51 (Dense)             (None, 512)               262656    \n",
            "_________________________________________________________________\n",
            "dense_52 (Dense)             (None, 512)               262656    \n",
            "_________________________________________________________________\n",
            "dense_53 (Dense)             (None, 10)                5130      \n",
            "=================================================================\n",
            "Total params: 2,366,474\n",
            "Trainable params: 2,366,474\n",
            "Non-trainable params: 0\n",
            "_________________________________________________________________\n"
          ],
          "name": "stdout"
        }
      ]
    },
    {
      "cell_type": "code",
      "metadata": {
        "colab_type": "code",
        "id": "o8agFJseYW7X",
        "colab": {}
      },
      "source": [
        "model_l5_n512.compile(optimizer=Adam(), loss='categorical_crossentropy', metrics=['accuracy'])"
      ],
      "execution_count": 119,
      "outputs": []
    },
    {
      "cell_type": "code",
      "metadata": {
        "colab_type": "code",
        "id": "yb1W2cNwYW7Z",
        "colab": {
          "base_uri": "https://localhost:8080/",
          "height": 184
        },
        "outputId": "bdbd2073-f95b-4f83-a605-d2ec3f76d888"
      },
      "source": [
        "history_l5_n_512=  model_l5_n512.fit(x =x_train_p, y=y_train_p,validation_data=(x_val_p, y_val_p), epochs=5,verbose=1, batch_size =32 )"
      ],
      "execution_count": 120,
      "outputs": [
        {
          "output_type": "stream",
          "text": [
            "Epoch 1/5\n",
            "313/313 [==============================] - 1s 4ms/step - loss: 2.1943 - accuracy: 0.1544 - val_loss: 2.1047 - val_accuracy: 0.1816\n",
            "Epoch 2/5\n",
            "313/313 [==============================] - 1s 4ms/step - loss: 2.1026 - accuracy: 0.1751 - val_loss: 2.1693 - val_accuracy: 0.1792\n",
            "Epoch 3/5\n",
            "313/313 [==============================] - 1s 4ms/step - loss: 2.0839 - accuracy: 0.1814 - val_loss: 2.1069 - val_accuracy: 0.1812\n",
            "Epoch 4/5\n",
            "313/313 [==============================] - 1s 4ms/step - loss: 2.0697 - accuracy: 0.1881 - val_loss: 2.0266 - val_accuracy: 0.2182\n",
            "Epoch 5/5\n",
            "313/313 [==============================] - 1s 4ms/step - loss: 2.0259 - accuracy: 0.2126 - val_loss: 1.9810 - val_accuracy: 0.2486\n"
          ],
          "name": "stdout"
        }
      ]
    },
    {
      "cell_type": "markdown",
      "metadata": {
        "id": "C8AZoPFcxi29",
        "colab_type": "text"
      },
      "source": [
        "#### 3 layer network with 256 neurons"
      ]
    },
    {
      "cell_type": "code",
      "metadata": {
        "colab_type": "code",
        "id": "mMKbaes-wmsJ",
        "colab": {}
      },
      "source": [
        "model_l3_n256 = tf.keras.models.Sequential([\n",
        "    tf.keras.layers.Flatten(input_shape = (32,32,3)),    \n",
        "    tf.keras.layers.Dense(256, activation = 'sigmoid'),\n",
        "    tf.keras.layers.Dense(256, activation = 'sigmoid'),\n",
        "    tf.keras.layers.Dense(10, activation = 'softmax') \n",
        "])  "
      ],
      "execution_count": 121,
      "outputs": []
    },
    {
      "cell_type": "code",
      "metadata": {
        "id": "TwMQVwH-xCZk",
        "colab_type": "code",
        "colab": {
          "base_uri": "https://localhost:8080/",
          "height": 284
        },
        "outputId": "ff33e5f1-92c0-49f8-ef7f-5ee1561fd7a4"
      },
      "source": [
        "model_l3_n256.summary()"
      ],
      "execution_count": 122,
      "outputs": [
        {
          "output_type": "stream",
          "text": [
            "Model: \"sequential_14\"\n",
            "_________________________________________________________________\n",
            "Layer (type)                 Output Shape              Param #   \n",
            "=================================================================\n",
            "flatten_14 (Flatten)         (None, 3072)              0         \n",
            "_________________________________________________________________\n",
            "dense_54 (Dense)             (None, 256)               786688    \n",
            "_________________________________________________________________\n",
            "dense_55 (Dense)             (None, 256)               65792     \n",
            "_________________________________________________________________\n",
            "dense_56 (Dense)             (None, 10)                2570      \n",
            "=================================================================\n",
            "Total params: 855,050\n",
            "Trainable params: 855,050\n",
            "Non-trainable params: 0\n",
            "_________________________________________________________________\n"
          ],
          "name": "stdout"
        }
      ]
    },
    {
      "cell_type": "code",
      "metadata": {
        "id": "JIx3ZEprw0It",
        "colab_type": "code",
        "colab": {}
      },
      "source": [
        "model_l3_n256.compile(optimizer=Adam(), loss='categorical_crossentropy', metrics=['accuracy'])"
      ],
      "execution_count": 123,
      "outputs": []
    },
    {
      "cell_type": "code",
      "metadata": {
        "id": "wIyMnAaqw6-U",
        "colab_type": "code",
        "colab": {
          "base_uri": "https://localhost:8080/",
          "height": 184
        },
        "outputId": "b81f5f80-069f-434f-cd41-69afe0875db1"
      },
      "source": [
        "history_l3_n_256= model_l3_n256.fit(x =x_train_p, y=y_train_p,validation_data=(x_val_p, y_val_p),epochs=5,verbose=1, batch_size =32  )                                             "
      ],
      "execution_count": 124,
      "outputs": [
        {
          "output_type": "stream",
          "text": [
            "Epoch 1/5\n",
            "313/313 [==============================] - 1s 4ms/step - loss: 2.0552 - accuracy: 0.2396 - val_loss: 1.9203 - val_accuracy: 0.2994\n",
            "Epoch 2/5\n",
            "313/313 [==============================] - 1s 4ms/step - loss: 1.8891 - accuracy: 0.3153 - val_loss: 1.9077 - val_accuracy: 0.3086\n",
            "Epoch 3/5\n",
            "313/313 [==============================] - 1s 4ms/step - loss: 1.8390 - accuracy: 0.3333 - val_loss: 1.9273 - val_accuracy: 0.3056\n",
            "Epoch 4/5\n",
            "313/313 [==============================] - 1s 4ms/step - loss: 1.7896 - accuracy: 0.3516 - val_loss: 1.8263 - val_accuracy: 0.3528\n",
            "Epoch 5/5\n",
            "313/313 [==============================] - 1s 4ms/step - loss: 1.7644 - accuracy: 0.3561 - val_loss: 1.7890 - val_accuracy: 0.3364\n"
          ],
          "name": "stdout"
        }
      ]
    },
    {
      "cell_type": "markdown",
      "metadata": {
        "id": "N9xMUEONxmHN",
        "colab_type": "text"
      },
      "source": [
        "#### 4 layer network with 256 neurons"
      ]
    },
    {
      "cell_type": "code",
      "metadata": {
        "colab_type": "code",
        "id": "lgMn7qomxf7b",
        "colab": {}
      },
      "source": [
        "model_l4_n256 = tf.keras.models.Sequential([\n",
        "    tf.keras.layers.Flatten(input_shape = (32,32,3)),    \n",
        "    tf.keras.layers.Dense(256, activation = 'sigmoid'),\n",
        "    tf.keras.layers.Dense(256, activation = 'sigmoid'),\n",
        "    tf.keras.layers.Dense(256, activation = 'sigmoid'),\n",
        "    tf.keras.layers.Dense(10, activation = 'softmax') \n",
        "])  "
      ],
      "execution_count": 125,
      "outputs": []
    },
    {
      "cell_type": "code",
      "metadata": {
        "colab_type": "code",
        "id": "uYRYx5xLxf7e",
        "colab": {
          "base_uri": "https://localhost:8080/",
          "height": 318
        },
        "outputId": "f0c49b93-88a6-43b2-8124-034bac90ccba"
      },
      "source": [
        "model_l4_n256.summary()"
      ],
      "execution_count": 126,
      "outputs": [
        {
          "output_type": "stream",
          "text": [
            "Model: \"sequential_15\"\n",
            "_________________________________________________________________\n",
            "Layer (type)                 Output Shape              Param #   \n",
            "=================================================================\n",
            "flatten_15 (Flatten)         (None, 3072)              0         \n",
            "_________________________________________________________________\n",
            "dense_57 (Dense)             (None, 256)               786688    \n",
            "_________________________________________________________________\n",
            "dense_58 (Dense)             (None, 256)               65792     \n",
            "_________________________________________________________________\n",
            "dense_59 (Dense)             (None, 256)               65792     \n",
            "_________________________________________________________________\n",
            "dense_60 (Dense)             (None, 10)                2570      \n",
            "=================================================================\n",
            "Total params: 920,842\n",
            "Trainable params: 920,842\n",
            "Non-trainable params: 0\n",
            "_________________________________________________________________\n"
          ],
          "name": "stdout"
        }
      ]
    },
    {
      "cell_type": "code",
      "metadata": {
        "colab_type": "code",
        "id": "grccUcpVxf7g",
        "colab": {}
      },
      "source": [
        "model_l4_n256.compile(optimizer=Adam(), loss='categorical_crossentropy', metrics=['accuracy'])"
      ],
      "execution_count": 127,
      "outputs": []
    },
    {
      "cell_type": "code",
      "metadata": {
        "colab_type": "code",
        "id": "v631s5aLxf7i",
        "colab": {
          "base_uri": "https://localhost:8080/",
          "height": 184
        },
        "outputId": "b4297999-47f1-4354-a1d1-b81ddd191990"
      },
      "source": [
        "history_l4_n_256 = model_l4_n256.fit(x =x_train_p, y=y_train_p,validation_data=(x_val_p, y_val_p), epochs=5,verbose=1, batch_size =32  )                                             "
      ],
      "execution_count": 128,
      "outputs": [
        {
          "output_type": "stream",
          "text": [
            "Epoch 1/5\n",
            "313/313 [==============================] - 1s 4ms/step - loss: 2.1599 - accuracy: 0.1701 - val_loss: 2.0432 - val_accuracy: 0.2088\n",
            "Epoch 2/5\n",
            "313/313 [==============================] - 1s 4ms/step - loss: 1.9784 - accuracy: 0.2615 - val_loss: 1.9607 - val_accuracy: 0.2738\n",
            "Epoch 3/5\n",
            "313/313 [==============================] - 1s 4ms/step - loss: 1.9304 - accuracy: 0.2850 - val_loss: 2.0231 - val_accuracy: 0.2530\n",
            "Epoch 4/5\n",
            "313/313 [==============================] - 1s 4ms/step - loss: 1.8833 - accuracy: 0.3036 - val_loss: 1.8885 - val_accuracy: 0.2972\n",
            "Epoch 5/5\n",
            "313/313 [==============================] - 1s 4ms/step - loss: 1.8527 - accuracy: 0.3140 - val_loss: 1.8538 - val_accuracy: 0.3186\n"
          ],
          "name": "stdout"
        }
      ]
    },
    {
      "cell_type": "markdown",
      "metadata": {
        "id": "qdIGeGt4x30c",
        "colab_type": "text"
      },
      "source": [
        "#### 5 layer network with 256 neurons"
      ]
    },
    {
      "cell_type": "code",
      "metadata": {
        "colab_type": "code",
        "id": "HpFwvlWsxfsP",
        "colab": {}
      },
      "source": [
        "model_l5_n256 = tf.keras.models.Sequential([\n",
        "    tf.keras.layers.Flatten(input_shape = (32,32,3)),    \n",
        "    tf.keras.layers.Dense(256, activation = 'sigmoid'),\n",
        "    tf.keras.layers.Dense(256, activation = 'sigmoid'),\n",
        "    tf.keras.layers.Dense(256, activation = 'sigmoid'),\n",
        "    tf.keras.layers.Dense(256, activation = 'sigmoid'),\n",
        "    tf.keras.layers.Dense(10, activation = 'softmax') \n",
        "])  "
      ],
      "execution_count": 129,
      "outputs": []
    },
    {
      "cell_type": "code",
      "metadata": {
        "colab_type": "code",
        "id": "dNcW48ujxfsW",
        "colab": {
          "base_uri": "https://localhost:8080/",
          "height": 351
        },
        "outputId": "4cc28ed3-25bc-4cda-9ad7-f8a2247c6266"
      },
      "source": [
        "model_l5_n256.summary()"
      ],
      "execution_count": 130,
      "outputs": [
        {
          "output_type": "stream",
          "text": [
            "Model: \"sequential_16\"\n",
            "_________________________________________________________________\n",
            "Layer (type)                 Output Shape              Param #   \n",
            "=================================================================\n",
            "flatten_16 (Flatten)         (None, 3072)              0         \n",
            "_________________________________________________________________\n",
            "dense_61 (Dense)             (None, 256)               786688    \n",
            "_________________________________________________________________\n",
            "dense_62 (Dense)             (None, 256)               65792     \n",
            "_________________________________________________________________\n",
            "dense_63 (Dense)             (None, 256)               65792     \n",
            "_________________________________________________________________\n",
            "dense_64 (Dense)             (None, 256)               65792     \n",
            "_________________________________________________________________\n",
            "dense_65 (Dense)             (None, 10)                2570      \n",
            "=================================================================\n",
            "Total params: 986,634\n",
            "Trainable params: 986,634\n",
            "Non-trainable params: 0\n",
            "_________________________________________________________________\n"
          ],
          "name": "stdout"
        }
      ]
    },
    {
      "cell_type": "code",
      "metadata": {
        "colab_type": "code",
        "id": "mcqSBYUtxfsb",
        "colab": {}
      },
      "source": [
        "model_l5_n256.compile(optimizer=Adam(), loss='categorical_crossentropy', metrics=['accuracy'])"
      ],
      "execution_count": 131,
      "outputs": []
    },
    {
      "cell_type": "code",
      "metadata": {
        "colab_type": "code",
        "id": "2xiE6d8Lxfsf",
        "colab": {
          "base_uri": "https://localhost:8080/",
          "height": 184
        },
        "outputId": "36e044cc-85d2-4ebc-f9f9-62f9c966dbac"
      },
      "source": [
        "history_l5_n_256 =model_l5_n256.fit(x =x_train_p, y=y_train_p,validation_data=(x_val_p, y_val_p), epochs=5,verbose=1, batch_size =32  )                                             "
      ],
      "execution_count": 132,
      "outputs": [
        {
          "output_type": "stream",
          "text": [
            "Epoch 1/5\n",
            "313/313 [==============================] - 1s 4ms/step - loss: 2.1676 - accuracy: 0.1604 - val_loss: 2.0704 - val_accuracy: 0.1866\n",
            "Epoch 2/5\n",
            "313/313 [==============================] - 1s 4ms/step - loss: 2.0297 - accuracy: 0.2224 - val_loss: 2.0273 - val_accuracy: 0.2308\n",
            "Epoch 3/5\n",
            "313/313 [==============================] - 1s 4ms/step - loss: 1.9773 - accuracy: 0.2440 - val_loss: 2.0802 - val_accuracy: 0.2220\n",
            "Epoch 4/5\n",
            "313/313 [==============================] - 1s 4ms/step - loss: 1.9438 - accuracy: 0.2629 - val_loss: 1.9610 - val_accuracy: 0.2578\n",
            "Epoch 5/5\n",
            "313/313 [==============================] - 1s 4ms/step - loss: 1.9188 - accuracy: 0.2800 - val_loss: 1.9283 - val_accuracy: 0.2866\n"
          ],
          "name": "stdout"
        }
      ]
    },
    {
      "cell_type": "markdown",
      "metadata": {
        "id": "S3V1wf1T0nQm",
        "colab_type": "text"
      },
      "source": [
        "#### 3 layer network with 1024 neurons"
      ]
    },
    {
      "cell_type": "code",
      "metadata": {
        "colab_type": "code",
        "id": "fHvfqAHW0vnj",
        "colab": {}
      },
      "source": [
        "model_l3_n1024 = tf.keras.models.Sequential([\n",
        "    tf.keras.layers.Flatten(input_shape = (32,32,3)),    \n",
        "    tf.keras.layers.Dense(1024, activation = 'sigmoid'),\n",
        "    tf.keras.layers.Dense(1024, activation = 'sigmoid'),\n",
        "    tf.keras.layers.Dense(10, activation = 'softmax') \n",
        "])  "
      ],
      "execution_count": 133,
      "outputs": []
    },
    {
      "cell_type": "code",
      "metadata": {
        "colab_type": "code",
        "id": "I22FJwO00vnp",
        "colab": {
          "base_uri": "https://localhost:8080/",
          "height": 284
        },
        "outputId": "822bf623-134a-441c-c3a2-42e900147a23"
      },
      "source": [
        "model_l3_n1024.summary()"
      ],
      "execution_count": 134,
      "outputs": [
        {
          "output_type": "stream",
          "text": [
            "Model: \"sequential_17\"\n",
            "_________________________________________________________________\n",
            "Layer (type)                 Output Shape              Param #   \n",
            "=================================================================\n",
            "flatten_17 (Flatten)         (None, 3072)              0         \n",
            "_________________________________________________________________\n",
            "dense_66 (Dense)             (None, 1024)              3146752   \n",
            "_________________________________________________________________\n",
            "dense_67 (Dense)             (None, 1024)              1049600   \n",
            "_________________________________________________________________\n",
            "dense_68 (Dense)             (None, 10)                10250     \n",
            "=================================================================\n",
            "Total params: 4,206,602\n",
            "Trainable params: 4,206,602\n",
            "Non-trainable params: 0\n",
            "_________________________________________________________________\n"
          ],
          "name": "stdout"
        }
      ]
    },
    {
      "cell_type": "code",
      "metadata": {
        "colab_type": "code",
        "id": "chMbWs740vns",
        "colab": {}
      },
      "source": [
        "model_l3_n1024.compile(optimizer=Adam(), loss='categorical_crossentropy', metrics=['accuracy'])"
      ],
      "execution_count": 135,
      "outputs": []
    },
    {
      "cell_type": "code",
      "metadata": {
        "colab_type": "code",
        "id": "vsY16fu70vnv",
        "colab": {
          "base_uri": "https://localhost:8080/",
          "height": 184
        },
        "outputId": "76abc24d-7955-4d1a-e12e-03788a9dfc2d"
      },
      "source": [
        "history_l3_n_1024 = model_l3_n1024.fit(x =x_train_p, y=y_train_p,validation_data=(x_val_p, y_val_p), epochs=5,verbose=1, batch_size =32  )                                             "
      ],
      "execution_count": 136,
      "outputs": [
        {
          "output_type": "stream",
          "text": [
            "Epoch 1/5\n",
            "313/313 [==============================] - 2s 5ms/step - loss: 2.1118 - accuracy: 0.2233 - val_loss: 1.9418 - val_accuracy: 0.2956\n",
            "Epoch 2/5\n",
            "313/313 [==============================] - 1s 4ms/step - loss: 1.9090 - accuracy: 0.3028 - val_loss: 1.9808 - val_accuracy: 0.2678\n",
            "Epoch 3/5\n",
            "313/313 [==============================] - 1s 4ms/step - loss: 1.8485 - accuracy: 0.3270 - val_loss: 1.8755 - val_accuracy: 0.3164\n",
            "Epoch 4/5\n",
            "313/313 [==============================] - 1s 4ms/step - loss: 1.7980 - accuracy: 0.3448 - val_loss: 1.8532 - val_accuracy: 0.3270\n",
            "Epoch 5/5\n",
            "313/313 [==============================] - 1s 4ms/step - loss: 1.7616 - accuracy: 0.3576 - val_loss: 1.7804 - val_accuracy: 0.3510\n"
          ],
          "name": "stdout"
        }
      ]
    },
    {
      "cell_type": "markdown",
      "metadata": {
        "colab_type": "text",
        "id": "CGMo-CPpzgz9"
      },
      "source": [
        "#### 4 layer network with 1024 neurons"
      ]
    },
    {
      "cell_type": "code",
      "metadata": {
        "colab_type": "code",
        "id": "n9JpE6Uszgz-",
        "colab": {}
      },
      "source": [
        "model_l4_n1024 = tf.keras.models.Sequential([\n",
        "    tf.keras.layers.Flatten(input_shape = (32,32,3)),    \n",
        "    tf.keras.layers.Dense(1024, activation = 'sigmoid'),\n",
        "    tf.keras.layers.Dense(1024, activation = 'sigmoid'),\n",
        "    tf.keras.layers.Dense(1024, activation = 'sigmoid'),\n",
        "    tf.keras.layers.Dense(10, activation = 'softmax') \n",
        "])  "
      ],
      "execution_count": 137,
      "outputs": []
    },
    {
      "cell_type": "code",
      "metadata": {
        "colab_type": "code",
        "id": "C-hFITWszg0A",
        "colab": {
          "base_uri": "https://localhost:8080/",
          "height": 318
        },
        "outputId": "de284caa-bfe6-457b-ec33-25a1dce6445c"
      },
      "source": [
        "model_l4_n1024.summary()"
      ],
      "execution_count": 138,
      "outputs": [
        {
          "output_type": "stream",
          "text": [
            "Model: \"sequential_18\"\n",
            "_________________________________________________________________\n",
            "Layer (type)                 Output Shape              Param #   \n",
            "=================================================================\n",
            "flatten_18 (Flatten)         (None, 3072)              0         \n",
            "_________________________________________________________________\n",
            "dense_69 (Dense)             (None, 1024)              3146752   \n",
            "_________________________________________________________________\n",
            "dense_70 (Dense)             (None, 1024)              1049600   \n",
            "_________________________________________________________________\n",
            "dense_71 (Dense)             (None, 1024)              1049600   \n",
            "_________________________________________________________________\n",
            "dense_72 (Dense)             (None, 10)                10250     \n",
            "=================================================================\n",
            "Total params: 5,256,202\n",
            "Trainable params: 5,256,202\n",
            "Non-trainable params: 0\n",
            "_________________________________________________________________\n"
          ],
          "name": "stdout"
        }
      ]
    },
    {
      "cell_type": "code",
      "metadata": {
        "colab_type": "code",
        "id": "RyG9ZjZpzg0D",
        "colab": {}
      },
      "source": [
        "model_l4_n1024.compile(optimizer=Adam(), loss='categorical_crossentropy', metrics=['accuracy'])"
      ],
      "execution_count": 139,
      "outputs": []
    },
    {
      "cell_type": "code",
      "metadata": {
        "colab_type": "code",
        "id": "uxhwkPKPzg0F",
        "colab": {
          "base_uri": "https://localhost:8080/",
          "height": 184
        },
        "outputId": "eb142a2a-9507-477e-e610-46ed9e5be6e8"
      },
      "source": [
        "history_l4_n_1024 = model_l4_n1024.fit(x =x_train_p, y=y_train_p,validation_data=(x_val_p, y_val_p),epochs=5,verbose=1, batch_size =32  )                                             "
      ],
      "execution_count": 140,
      "outputs": [
        {
          "output_type": "stream",
          "text": [
            "Epoch 1/5\n",
            "313/313 [==============================] - 1s 5ms/step - loss: 2.2012 - accuracy: 0.1664 - val_loss: 2.0279 - val_accuracy: 0.2280\n",
            "Epoch 2/5\n",
            "313/313 [==============================] - 1s 4ms/step - loss: 1.9952 - accuracy: 0.2522 - val_loss: 2.0171 - val_accuracy: 0.2654\n",
            "Epoch 3/5\n",
            "313/313 [==============================] - 1s 4ms/step - loss: 1.9241 - accuracy: 0.2809 - val_loss: 1.9286 - val_accuracy: 0.2876\n",
            "Epoch 4/5\n",
            "313/313 [==============================] - 1s 4ms/step - loss: 1.8823 - accuracy: 0.3050 - val_loss: 1.8890 - val_accuracy: 0.3008\n",
            "Epoch 5/5\n",
            "313/313 [==============================] - 1s 4ms/step - loss: 1.8483 - accuracy: 0.3116 - val_loss: 1.8790 - val_accuracy: 0.3164\n"
          ],
          "name": "stdout"
        }
      ]
    },
    {
      "cell_type": "markdown",
      "metadata": {
        "colab_type": "text",
        "id": "XYkR1dkCzg0H"
      },
      "source": [
        "#### 5 layer network with 1024 neurons"
      ]
    },
    {
      "cell_type": "code",
      "metadata": {
        "colab_type": "code",
        "id": "Odi5KyIIzg0H",
        "colab": {}
      },
      "source": [
        "model_l5_n1024 = tf.keras.models.Sequential([\n",
        "    tf.keras.layers.Flatten(input_shape = (32,32,3)),    \n",
        "    tf.keras.layers.Dense(1024, activation = 'sigmoid'),\n",
        "    tf.keras.layers.Dense(1024, activation = 'sigmoid'),\n",
        "    tf.keras.layers.Dense(1024, activation = 'sigmoid'),\n",
        "    tf.keras.layers.Dense(1024, activation = 'sigmoid'),\n",
        "    tf.keras.layers.Dense(10, activation = 'softmax') \n",
        "])  "
      ],
      "execution_count": 141,
      "outputs": []
    },
    {
      "cell_type": "code",
      "metadata": {
        "colab_type": "code",
        "id": "x4Yu8aAUzg0J",
        "colab": {
          "base_uri": "https://localhost:8080/",
          "height": 351
        },
        "outputId": "e7e38847-b968-44c2-d7f7-f3b6ff39ce12"
      },
      "source": [
        "model_l5_n1024.summary()"
      ],
      "execution_count": 142,
      "outputs": [
        {
          "output_type": "stream",
          "text": [
            "Model: \"sequential_19\"\n",
            "_________________________________________________________________\n",
            "Layer (type)                 Output Shape              Param #   \n",
            "=================================================================\n",
            "flatten_19 (Flatten)         (None, 3072)              0         \n",
            "_________________________________________________________________\n",
            "dense_73 (Dense)             (None, 1024)              3146752   \n",
            "_________________________________________________________________\n",
            "dense_74 (Dense)             (None, 1024)              1049600   \n",
            "_________________________________________________________________\n",
            "dense_75 (Dense)             (None, 1024)              1049600   \n",
            "_________________________________________________________________\n",
            "dense_76 (Dense)             (None, 1024)              1049600   \n",
            "_________________________________________________________________\n",
            "dense_77 (Dense)             (None, 10)                10250     \n",
            "=================================================================\n",
            "Total params: 6,305,802\n",
            "Trainable params: 6,305,802\n",
            "Non-trainable params: 0\n",
            "_________________________________________________________________\n"
          ],
          "name": "stdout"
        }
      ]
    },
    {
      "cell_type": "code",
      "metadata": {
        "colab_type": "code",
        "id": "Oog393Ghzg0N",
        "colab": {}
      },
      "source": [
        "model_l5_n1024.compile(optimizer=Adam(), loss='categorical_crossentropy', metrics=['accuracy'])"
      ],
      "execution_count": 143,
      "outputs": []
    },
    {
      "cell_type": "code",
      "metadata": {
        "colab_type": "code",
        "id": "pw0n9yDnzg0P",
        "colab": {
          "base_uri": "https://localhost:8080/",
          "height": 184
        },
        "outputId": "213beb03-8770-4e27-9e09-43de1698d9e0"
      },
      "source": [
        "history_l5_n_1024 = model_l5_n1024.fit(x =x_train_p, y=y_train_p,validation_data=(x_val_p, y_val_p),epochs=5,verbose=1, batch_size =32  )                                             "
      ],
      "execution_count": 144,
      "outputs": [
        {
          "output_type": "stream",
          "text": [
            "Epoch 1/5\n",
            "313/313 [==============================] - 2s 5ms/step - loss: 2.3139 - accuracy: 0.1305 - val_loss: 2.1715 - val_accuracy: 0.1660\n",
            "Epoch 2/5\n",
            "313/313 [==============================] - 1s 5ms/step - loss: 2.1455 - accuracy: 0.1640 - val_loss: 2.2569 - val_accuracy: 0.1704\n",
            "Epoch 3/5\n",
            "313/313 [==============================] - 1s 5ms/step - loss: 2.1194 - accuracy: 0.1790 - val_loss: 2.1571 - val_accuracy: 0.1808\n",
            "Epoch 4/5\n",
            "313/313 [==============================] - 1s 5ms/step - loss: 2.1143 - accuracy: 0.1728 - val_loss: 2.0849 - val_accuracy: 0.2062\n",
            "Epoch 5/5\n",
            "313/313 [==============================] - 1s 5ms/step - loss: 2.0855 - accuracy: 0.1741 - val_loss: 2.0818 - val_accuracy: 0.1986\n"
          ],
          "name": "stdout"
        }
      ]
    },
    {
      "cell_type": "markdown",
      "metadata": {
        "id": "SkhjLQDXLOkF",
        "colab_type": "text"
      },
      "source": [
        "## CNN Model for part2"
      ]
    },
    {
      "cell_type": "markdown",
      "metadata": {
        "id": "JRh9CFQY1Bwh",
        "colab_type": "text"
      },
      "source": [
        "### CNN model 1"
      ]
    },
    {
      "cell_type": "code",
      "metadata": {
        "id": "MaSYDYEGLRas",
        "colab_type": "code",
        "colab": {}
      },
      "source": [
        "model_cnn1 = tf.keras.models.Sequential([\n",
        "    tf.keras.layers.Conv2D(64,(3,3), activation = \"relu\",  input_shape=(32, 32, 3)),\n",
        "    tf.keras.layers.Conv2D(64,(3,3), activation = \"relu\"),      \n",
        "    tf.keras.layers.Flatten(),                               \n",
        "    tf.keras.layers.Dense(512, activation = 'sigmoid'),\n",
        "    tf.keras.layers.Dense(512, activation = 'sigmoid'),\n",
        "    tf.keras.layers.Dense(10, activation = 'softmax') \n",
        "])"
      ],
      "execution_count": 145,
      "outputs": []
    },
    {
      "cell_type": "code",
      "metadata": {
        "id": "scsKFarBMxgm",
        "colab_type": "code",
        "colab": {
          "base_uri": "https://localhost:8080/",
          "height": 351
        },
        "outputId": "98b69d5c-1781-4c0d-9094-53a82334a6af"
      },
      "source": [
        "model_cnn1.summary()"
      ],
      "execution_count": 146,
      "outputs": [
        {
          "output_type": "stream",
          "text": [
            "Model: \"sequential_20\"\n",
            "_________________________________________________________________\n",
            "Layer (type)                 Output Shape              Param #   \n",
            "=================================================================\n",
            "conv2d_4 (Conv2D)            (None, 30, 30, 64)        1792      \n",
            "_________________________________________________________________\n",
            "conv2d_5 (Conv2D)            (None, 28, 28, 64)        36928     \n",
            "_________________________________________________________________\n",
            "flatten_20 (Flatten)         (None, 50176)             0         \n",
            "_________________________________________________________________\n",
            "dense_78 (Dense)             (None, 512)               25690624  \n",
            "_________________________________________________________________\n",
            "dense_79 (Dense)             (None, 512)               262656    \n",
            "_________________________________________________________________\n",
            "dense_80 (Dense)             (None, 10)                5130      \n",
            "=================================================================\n",
            "Total params: 25,997,130\n",
            "Trainable params: 25,997,130\n",
            "Non-trainable params: 0\n",
            "_________________________________________________________________\n"
          ],
          "name": "stdout"
        }
      ]
    },
    {
      "cell_type": "code",
      "metadata": {
        "id": "xJiZ3hGgM0Ht",
        "colab_type": "code",
        "colab": {}
      },
      "source": [
        "model_cnn1.compile(optimizer=Adam(), loss='categorical_crossentropy', metrics=['accuracy'])"
      ],
      "execution_count": 147,
      "outputs": []
    },
    {
      "cell_type": "code",
      "metadata": {
        "id": "pp87yGSDM7DE",
        "colab_type": "code",
        "colab": {
          "base_uri": "https://localhost:8080/",
          "height": 184
        },
        "outputId": "8bbc4674-58ab-496c-a1d6-a1465fd49110"
      },
      "source": [
        "history_cnn1 = model_cnn1.fit(x =x_train_p, y=y_train_p,validation_data=(x_val_p, y_val_p), epochs=5,verbose=1, batch_size =32 )"
      ],
      "execution_count": 148,
      "outputs": [
        {
          "output_type": "stream",
          "text": [
            "Epoch 1/5\n",
            "313/313 [==============================] - 3s 9ms/step - loss: 1.8166 - accuracy: 0.3219 - val_loss: 1.5296 - val_accuracy: 0.4466\n",
            "Epoch 2/5\n",
            "313/313 [==============================] - 3s 8ms/step - loss: 1.4138 - accuracy: 0.4848 - val_loss: 1.5156 - val_accuracy: 0.4572\n",
            "Epoch 3/5\n",
            "313/313 [==============================] - 3s 8ms/step - loss: 1.1733 - accuracy: 0.5742 - val_loss: 1.4702 - val_accuracy: 0.4774\n",
            "Epoch 4/5\n",
            "313/313 [==============================] - 3s 8ms/step - loss: 0.8641 - accuracy: 0.7010 - val_loss: 1.3906 - val_accuracy: 0.5348\n",
            "Epoch 5/5\n",
            "313/313 [==============================] - 3s 8ms/step - loss: 0.5109 - accuracy: 0.8280 - val_loss: 1.5731 - val_accuracy: 0.5266\n"
          ],
          "name": "stdout"
        }
      ]
    },
    {
      "cell_type": "markdown",
      "metadata": {
        "id": "MheYPr4m1Ekz",
        "colab_type": "text"
      },
      "source": [
        "### CNN model 2"
      ]
    },
    {
      "cell_type": "code",
      "metadata": {
        "id": "HsBoppEENZdY",
        "colab_type": "code",
        "colab": {}
      },
      "source": [
        "model_cnn2 = tf.keras.models.Sequential([\n",
        "    tf.keras.layers.Conv2D(64,(3,3), activation = \"relu\",  input_shape=(32, 32, 3)),\n",
        "    tf.keras.layers.MaxPool2D((2,2)),\n",
        "    tf.keras.layers.Conv2D(64,(3,3), activation = \"relu\"),      \n",
        "    tf.keras.layers.MaxPool2D((2,2)),\n",
        "    tf.keras.layers.Flatten(),                               \n",
        "    tf.keras.layers.Dense(512, activation = 'sigmoid'),\n",
        "    tf.keras.layers.Dropout(0.2),\n",
        "    tf.keras.layers.Dense(512, activation = 'sigmoid'),\n",
        "    tf.keras.layers.Dropout(0.2),\n",
        "    tf.keras.layers.Dense(10, activation = 'softmax') \n",
        "])"
      ],
      "execution_count": 149,
      "outputs": []
    },
    {
      "cell_type": "code",
      "metadata": {
        "id": "VLZ6JWkDN-V5",
        "colab_type": "code",
        "colab": {
          "base_uri": "https://localhost:8080/",
          "height": 485
        },
        "outputId": "3788ae9b-0616-42c7-a388-13841399e3e8"
      },
      "source": [
        "model_cnn2.summary()"
      ],
      "execution_count": 150,
      "outputs": [
        {
          "output_type": "stream",
          "text": [
            "Model: \"sequential_21\"\n",
            "_________________________________________________________________\n",
            "Layer (type)                 Output Shape              Param #   \n",
            "=================================================================\n",
            "conv2d_6 (Conv2D)            (None, 30, 30, 64)        1792      \n",
            "_________________________________________________________________\n",
            "max_pooling2d_2 (MaxPooling2 (None, 15, 15, 64)        0         \n",
            "_________________________________________________________________\n",
            "conv2d_7 (Conv2D)            (None, 13, 13, 64)        36928     \n",
            "_________________________________________________________________\n",
            "max_pooling2d_3 (MaxPooling2 (None, 6, 6, 64)          0         \n",
            "_________________________________________________________________\n",
            "flatten_21 (Flatten)         (None, 2304)              0         \n",
            "_________________________________________________________________\n",
            "dense_81 (Dense)             (None, 512)               1180160   \n",
            "_________________________________________________________________\n",
            "dropout_2 (Dropout)          (None, 512)               0         \n",
            "_________________________________________________________________\n",
            "dense_82 (Dense)             (None, 512)               262656    \n",
            "_________________________________________________________________\n",
            "dropout_3 (Dropout)          (None, 512)               0         \n",
            "_________________________________________________________________\n",
            "dense_83 (Dense)             (None, 10)                5130      \n",
            "=================================================================\n",
            "Total params: 1,486,666\n",
            "Trainable params: 1,486,666\n",
            "Non-trainable params: 0\n",
            "_________________________________________________________________\n"
          ],
          "name": "stdout"
        }
      ]
    },
    {
      "cell_type": "code",
      "metadata": {
        "id": "oYfrJkDBOEDR",
        "colab_type": "code",
        "colab": {}
      },
      "source": [
        "model_cnn2.compile(optimizer=Adam(), loss='categorical_crossentropy', metrics=['accuracy'])"
      ],
      "execution_count": 151,
      "outputs": []
    },
    {
      "cell_type": "code",
      "metadata": {
        "id": "7fKSpPdPOJym",
        "colab_type": "code",
        "colab": {
          "base_uri": "https://localhost:8080/",
          "height": 184
        },
        "outputId": "86a37970-7f31-4033-c373-3a965105ac35"
      },
      "source": [
        "history_model_cnn2 = model_cnn2.fit(x =x_train_p, y=y_train_p,validation_data=(x_val_p, y_val_p), epochs=5,verbose=1, batch_size =32 )"
      ],
      "execution_count": 152,
      "outputs": [
        {
          "output_type": "stream",
          "text": [
            "Epoch 1/5\n",
            "313/313 [==============================] - 2s 5ms/step - loss: 1.9547 - accuracy: 0.2731 - val_loss: 1.6005 - val_accuracy: 0.4136\n",
            "Epoch 2/5\n",
            "313/313 [==============================] - 2s 5ms/step - loss: 1.5316 - accuracy: 0.4343 - val_loss: 1.5303 - val_accuracy: 0.4490\n",
            "Epoch 3/5\n",
            "313/313 [==============================] - 2s 5ms/step - loss: 1.4141 - accuracy: 0.4805 - val_loss: 1.5293 - val_accuracy: 0.4470\n",
            "Epoch 4/5\n",
            "313/313 [==============================] - 2s 5ms/step - loss: 1.3108 - accuracy: 0.5249 - val_loss: 1.3318 - val_accuracy: 0.5132\n",
            "Epoch 5/5\n",
            "313/313 [==============================] - 2s 5ms/step - loss: 1.2073 - accuracy: 0.5652 - val_loss: 1.2906 - val_accuracy: 0.5386\n"
          ],
          "name": "stdout"
        }
      ]
    },
    {
      "cell_type": "markdown",
      "metadata": {
        "id": "qj9GcuMV1OYY",
        "colab_type": "text"
      },
      "source": [
        "## Plots and analysis for various models"
      ]
    },
    {
      "cell_type": "markdown",
      "metadata": {
        "id": "28X6QvUnM-b4",
        "colab_type": "text"
      },
      "source": [
        "### Plots for comparing MLP models"
      ]
    },
    {
      "cell_type": "markdown",
      "metadata": {
        "id": "sqFt8DMP1hDX",
        "colab_type": "text"
      },
      "source": [
        "#### Basse model accuarcy and cost plots"
      ]
    },
    {
      "cell_type": "markdown",
      "metadata": {
        "id": "8uag2Atwfyz_",
        "colab_type": "text"
      },
      "source": [
        "##### Accuracy plot for base MLP model\n",
        "\n",
        "\n",
        "\n"
      ]
    },
    {
      "cell_type": "code",
      "metadata": {
        "id": "QYx8ukd0ewa-",
        "colab_type": "code",
        "colab": {
          "base_uri": "https://localhost:8080/",
          "height": 312
        },
        "outputId": "d3a484ab-fb94-4fa0-8158-dc37fee9e229"
      },
      "source": [
        "train_accuracy_base_mlp = history_l3_n_512.history['accuracy']\n",
        "validation_accuracy_base_mlp = history_l3_n_512.history['val_accuracy']\n",
        "\n",
        "train_cost_base_mlp = history_l3_n_512.history[\"loss\"]\n",
        "val_cost_base_mlp = history_l3_n_512.history[\"val_loss\"] \n",
        "\n",
        "plt.plot(train_accuracy_base_mlp , label=\"training accuracy\")\n",
        "plt.plot(validation_accuracy_base_mlp, label =\"validation accuracy\")\n",
        "plt.title(\" Training and validation accuracy plots for base MLP model\")\n",
        "plt.xlabel(\"Epochs\")\n",
        "plt.ylabel(\"Accuracy\")\n",
        "plt.legend()"
      ],
      "execution_count": 153,
      "outputs": [
        {
          "output_type": "execute_result",
          "data": {
            "text/plain": [
              "<matplotlib.legend.Legend at 0x7fcbd60814e0>"
            ]
          },
          "metadata": {
            "tags": []
          },
          "execution_count": 153
        },
        {
          "output_type": "display_data",
          "data": {
            "image/png": "[encoded data removed]",
            "text/plain": [
              "<Figure size 432x288 with 1 Axes>"
            ]
          },
          "metadata": {
            "tags": [],
            "needs_background": "light"
          }
        }
      ]
    },
    {
      "cell_type": "markdown",
      "metadata": {
        "id": "tIoIyyeUbL7Q",
        "colab_type": "text"
      },
      "source": [
        "##### Cost Plot for base MLP model"
      ]
    },
    {
      "cell_type": "code",
      "metadata": {
        "id": "_gAxPgOrbSpG",
        "colab_type": "code",
        "colab": {
          "base_uri": "https://localhost:8080/",
          "height": 312
        },
        "outputId": "b1f075f3-74fc-4997-fed3-480b72ea2f1f"
      },
      "source": [
        "plt.plot(train_cost_base_mlp, label =\"training cost\")\n",
        "plt.plot(val_cost_base_mlp, label =\"validation cost\")\n",
        "plt.title(\" Training and validation cost plots for base MLP model\")\n",
        "plt.xlabel(\"Epochs\")\n",
        "plt.ylabel(\" Categorical Cross entropy\")\n",
        "plt.legend()"
      ],
      "execution_count": 154,
      "outputs": [
        {
          "output_type": "execute_result",
          "data": {
            "text/plain": [
              "<matplotlib.legend.Legend at 0x7fcbd6443c50>"
            ]
          },
          "metadata": {
            "tags": []
          },
          "execution_count": 154
        },
        {
          "output_type": "display_data",
          "data": {
            "image/png": "[encoded data removed]",
            "text/plain": [
              "<Figure size 432x288 with 1 Axes>"
            ]
          },
          "metadata": {
            "tags": [],
            "needs_background": "light"
          }
        }
      ]
    },
    {
      "cell_type": "markdown",
      "metadata": {
        "id": "uRIi_bnnGh-p",
        "colab_type": "text"
      },
      "source": [
        "#### Training accuarcy plot for all MLP models\n"
      ]
    },
    {
      "cell_type": "code",
      "metadata": {
        "id": "uumT5XCdGssK",
        "colab_type": "code",
        "colab": {}
      },
      "source": [
        "# storing the training accuarcies for each model\n",
        "\n",
        "train_accuracy_0 = history_l3_n_256.history['accuracy']\n",
        "train_accuracy_1 = history_l3_n_512.history['accuracy']\n",
        "train_accuracy_2 = history_l3_n_1024.history['accuracy']\n",
        "train_accuracy_3 = history_l4_n_256.history['accuracy']\n",
        "train_accuracy_4 = history_l4_n_512.history['accuracy']\n",
        "train_accuracy_5 = history_l4_n_1024.history['accuracy']\n",
        "train_accuracy_6 = history_l5_n_256.history['accuracy']\n",
        "train_accuracy_7 = history_l5_n_512.history['accuracy']\n",
        "train_accuracy_8 = history_l5_n_1024.history['accuracy']\n",
        "\n"
      ],
      "execution_count": 155,
      "outputs": []
    },
    {
      "cell_type": "code",
      "metadata": {
        "id": "8iiqsJIBLpXq",
        "colab_type": "code",
        "colab": {
          "base_uri": "https://localhost:8080/",
          "height": 448
        },
        "outputId": "666e4694-0d62-4748-96ae-25b953faddda"
      },
      "source": [
        "# Plotting subplots for training acccuracy\n",
        "\n",
        "fig, (ax1, ax2,ax3) = plt.subplots(1, 3, figsize =(10,6), sharey= True, sharex= True)\n",
        "fig.suptitle('Training accuarcy for various MLP models')\n",
        "\n",
        "\n",
        "ax1.plot(train_accuracy_0,\"-o\",label =\"layer 3 nodes 256\")\n",
        "ax1.plot(train_accuracy_1,\"-*\",label =\"layer 3 nodes 512\")\n",
        "ax1.plot(train_accuracy_2,\"-+\",label =\"layer 3 nodes 1024\")\n",
        "ax1.legend(loc='best')\n",
        "ax1.set_xlabel(\"epochs\")\n",
        "ax1.set_ylabel(\" Training Accuarcy\")\n",
        "\n",
        "\n",
        "ax2.plot(train_accuracy_3,\"-o\",label =\"layer 4 nodes 256\")\n",
        "ax2.plot(train_accuracy_4,\"-*\",label =\"layer 4 nodes 512\")\n",
        "ax2.plot(train_accuracy_5,\"-+\",label =\"layer 4 nodes 1024\")\n",
        "ax2.legend(loc='best')\n",
        "ax2.set_xlabel(\"epochs\")\n",
        "ax2.set_ylabel(\" Training Accuarcy\")\n",
        "\n",
        "\n",
        "ax3.plot(train_accuracy_6,\"-o\",label =\"layer 5 nodes 256\")\n",
        "ax3.plot(train_accuracy_7,\"-*\",label =\"layer 5 nodes 512\")\n",
        "ax3.plot(train_accuracy_8,\"-+\",label =\"layer 5 nodes 1024\")\n",
        "ax3.legend(loc='best')\n",
        "ax3.set_xlabel(\"epochs\")\n",
        "ax3.set_ylabel(\" Training Accuarcy\")\n"
      ],
      "execution_count": 156,
      "outputs": [
        {
          "output_type": "execute_result",
          "data": {
            "text/plain": [
              "Text(0, 0.5, ' Training Accuarcy')"
            ]
          },
          "metadata": {
            "tags": []
          },
          "execution_count": 156
        },
        {
          "output_type": "display_data",
          "data": {
            "image/png": "[encoded data removed]",
            "text/plain": [
              "<Figure size 720x432 with 3 Axes>"
            ]
          },
          "metadata": {
            "tags": [],
            "needs_background": "light"
          }
        }
      ]
    },
    {
      "cell_type": "markdown",
      "metadata": {
        "colab_type": "text",
        "id": "Bk6FFbyFKtfR"
      },
      "source": [
        "#### Validation accuarcy plot for all MLP models\n"
      ]
    },
    {
      "cell_type": "code",
      "metadata": {
        "colab_type": "code",
        "id": "U3lRsKTlKtfT",
        "colab": {}
      },
      "source": [
        "# storing the validation accuarcies for each model\n",
        "\n",
        "val_accuracy_0 = history_l3_n_256.history['val_accuracy']\n",
        "val_accuracy_1 = history_l3_n_512.history['val_accuracy']\n",
        "val_accuracy_2 = history_l3_n_1024.history['val_accuracy']\n",
        "val_accuracy_3 = history_l4_n_256.history['val_accuracy']\n",
        "val_accuracy_4 = history_l4_n_512.history['val_accuracy']\n",
        "val_accuracy_5 = history_l4_n_1024.history['val_accuracy']\n",
        "val_accuracy_6 = history_l5_n_256.history['val_accuracy']\n",
        "val_accuracy_7 = history_l5_n_512.history['val_accuracy']\n",
        "val_accuracy_8 = history_l5_n_1024.history['val_accuracy']\n",
        "\n"
      ],
      "execution_count": 157,
      "outputs": []
    },
    {
      "cell_type": "code",
      "metadata": {
        "colab_type": "code",
        "id": "d3SlEzBTQW-y",
        "colab": {
          "base_uri": "https://localhost:8080/",
          "height": 448
        },
        "outputId": "49fba9c3-3857-48c0-ce03-820571e9ddba"
      },
      "source": [
        "# Plotting subplots for validation acccuracy\n",
        "\n",
        "fig, (ax1, ax2,ax3) = plt.subplots(1, 3, figsize =(10,6), sharey= True, sharex= True)\n",
        "fig.suptitle('Validation accuarcy for various MLP models')\n",
        "\n",
        "\n",
        "ax1.plot(val_accuracy_0,\"-o\",label =\"layer 3 nodes 256\")\n",
        "ax1.plot(val_accuracy_1,\"-*\",label =\"layer 3 nodes 512\")\n",
        "ax1.plot(val_accuracy_2,\"-+\",label =\"layer 3 nodes 1024\")\n",
        "ax1.legend(loc='best')\n",
        "ax1.set_xlabel(\"epochs\")\n",
        "ax1.set_ylabel(\" Validation Accuarcy\")\n",
        "\n",
        "\n",
        "ax2.plot(val_accuracy_3,\"-o\",label =\"layer 4 nodes 256\")\n",
        "ax2.plot(val_accuracy_4,\"-*\",label =\"layer 4 nodes 512\")\n",
        "ax2.plot(val_accuracy_5,\"-+\",label =\"layer 4 nodes 1024\")\n",
        "ax2.legend(loc='best')\n",
        "ax2.set_xlabel(\"epochs\")\n",
        "ax2.set_ylabel(\" Validation Accuarcy\")\n",
        "\n",
        "\n",
        "ax3.plot(val_accuracy_6,\"-o\",label =\"layer 5 nodes 256\")\n",
        "ax3.plot(val_accuracy_7,\"-*\",label =\"layer 5 nodes 512\")\n",
        "ax3.plot(val_accuracy_8,\"-+\",label =\"layer 5 nodes 1024\")\n",
        "ax3.legend(loc='best')\n",
        "ax3.set_xlabel(\"epochs\")\n",
        "ax3.set_ylabel(\" Validation Accuarcy\")\n"
      ],
      "execution_count": 158,
      "outputs": [
        {
          "output_type": "execute_result",
          "data": {
            "text/plain": [
              "Text(0, 0.5, ' Validation Accuarcy')"
            ]
          },
          "metadata": {
            "tags": []
          },
          "execution_count": 158
        },
        {
          "output_type": "display_data",
          "data": {
            "image/png": "[encoded data removed]",
            "text/plain": [
              "<Figure size 720x432 with 3 Axes>"
            ]
          },
          "metadata": {
            "tags": [],
            "needs_background": "light"
          }
        }
      ]
    },
    {
      "cell_type": "markdown",
      "metadata": {
        "id": "YJyk0UU42XkL",
        "colab_type": "text"
      },
      "source": [
        "### Train and Validation plots for CNN model1"
      ]
    },
    {
      "cell_type": "markdown",
      "metadata": {
        "id": "4PCn0Qpe2fsq",
        "colab_type": "text"
      },
      "source": [
        "#### Accuracy plots for CNN1 model"
      ]
    },
    {
      "cell_type": "code",
      "metadata": {
        "id": "Sq4LMwNX2k0N",
        "colab_type": "code",
        "colab": {
          "base_uri": "https://localhost:8080/",
          "height": 312
        },
        "outputId": "9412b03d-136c-451a-e37c-5178e3ba5a1b"
      },
      "source": [
        "train_accuracy_cnn1 = history_cnn1.history['accuracy']\n",
        "validation_accuracy_cnn1 = history_cnn1.history['val_accuracy']\n",
        "\n",
        "train_cost_cnn1 = history_cnn1.history[\"loss\"]\n",
        "val_cost_cnn1 = history_cnn1.history[\"val_loss\"] \n",
        "\n",
        "\n",
        "plt.plot(train_accuracy_cnn1, label =\"training accuracy\")\n",
        "plt.plot(validation_accuracy_cnn1, label =\"validation accuracy\")\n",
        "plt.title(\" Training and validation accuracy plots for CNN1 model\")\n",
        "plt.xlabel(\"Epochs\")\n",
        "plt.ylabel(\"Accuracy\")\n",
        "plt.legend()"
      ],
      "execution_count": 159,
      "outputs": [
        {
          "output_type": "execute_result",
          "data": {
            "text/plain": [
              "<matplotlib.legend.Legend at 0x7fcbcb40af60>"
            ]
          },
          "metadata": {
            "tags": []
          },
          "execution_count": 159
        },
        {
          "output_type": "display_data",
          "data": {
            "image/png": "[encoded data removed]",
            "text/plain": [
              "<Figure size 432x288 with 1 Axes>"
            ]
          },
          "metadata": {
            "tags": [],
            "needs_background": "light"
          }
        }
      ]
    },
    {
      "cell_type": "markdown",
      "metadata": {
        "id": "NS1Gu-Dn25iK",
        "colab_type": "text"
      },
      "source": [
        "#### Cost Plots for CNN1 model"
      ]
    },
    {
      "cell_type": "code",
      "metadata": {
        "id": "BI5SlZLB29vJ",
        "colab_type": "code",
        "colab": {
          "base_uri": "https://localhost:8080/",
          "height": 312
        },
        "outputId": "12c18bf1-6baa-45f2-c56e-cccf3af7cda5"
      },
      "source": [
        "plt.plot(train_cost_cnn1, label =\"training cost\")\n",
        "plt.plot(val_cost_cnn1, label =\"validation cost\")\n",
        "plt.title(\" Training and validation cost plots for base CNN1 model\")\n",
        "plt.xlabel(\"Epochs\")\n",
        "plt.ylabel(\" Categorical Cross entropy\")\n",
        "plt.legend()"
      ],
      "execution_count": 160,
      "outputs": [
        {
          "output_type": "execute_result",
          "data": {
            "text/plain": [
              "<matplotlib.legend.Legend at 0x7fcbcb3a8828>"
            ]
          },
          "metadata": {
            "tags": []
          },
          "execution_count": 160
        },
        {
          "output_type": "display_data",
          "data": {
            "image/png": "[encoded data removed]",
            "text/plain": [
              "<Figure size 432x288 with 1 Axes>"
            ]
          },
          "metadata": {
            "tags": [],
            "needs_background": "light"
          }
        }
      ]
    },
    {
      "cell_type": "markdown",
      "metadata": {
        "id": "w7EFZxoG3KCo",
        "colab_type": "text"
      },
      "source": [
        "### Train and Validation plots for CNN model2"
      ]
    },
    {
      "cell_type": "markdown",
      "metadata": {
        "id": "EKOsV6xd3PxR",
        "colab_type": "text"
      },
      "source": [
        "#### Accuracy plots for CNN2 model"
      ]
    },
    {
      "cell_type": "code",
      "metadata": {
        "id": "m1Ki8bSP3RdN",
        "colab_type": "code",
        "colab": {}
      },
      "source": [
        "train_accuracy_cnn2 = history_model_cnn2 .history['accuracy']\n",
        "validation_accuracy_cnn2 =history_model_cnn2 .history['val_accuracy']\n",
        "\n",
        "train_cost_cnn2 = history_model_cnn2 .history[\"loss\"]\n",
        "val_cost_cnn2 = history_model_cnn2 .history[\"val_loss\"] "
      ],
      "execution_count": 161,
      "outputs": []
    },
    {
      "cell_type": "code",
      "metadata": {
        "id": "d5vIbB4V3R_5",
        "colab_type": "code",
        "colab": {
          "base_uri": "https://localhost:8080/",
          "height": 312
        },
        "outputId": "6f458a03-7373-4547-efc3-167d91fcf408"
      },
      "source": [
        "plt.plot(train_accuracy_cnn2, label =\"training accuracy\")\n",
        "plt.plot(validation_accuracy_cnn2, label =\"validation accuracy\")\n",
        "plt.title(\" Training and validation accuracy plots for CNN2 model\")\n",
        "plt.xlabel(\"Epochs\")\n",
        "plt.ylabel(\"Accuracy\")\n",
        "plt.legend()"
      ],
      "execution_count": 162,
      "outputs": [
        {
          "output_type": "execute_result",
          "data": {
            "text/plain": [
              "<matplotlib.legend.Legend at 0x7fcbcb320048>"
            ]
          },
          "metadata": {
            "tags": []
          },
          "execution_count": 162
        },
        {
          "output_type": "display_data",
          "data": {
            "image/png": "[encoded data removed]",
            "text/plain": [
              "<Figure size 432x288 with 1 Axes>"
            ]
          },
          "metadata": {
            "tags": [],
            "needs_background": "light"
          }
        }
      ]
    },
    {
      "cell_type": "markdown",
      "metadata": {
        "id": "xw1hGO8d3Sdq",
        "colab_type": "text"
      },
      "source": [
        "#### Cost Plots for CNN2 model"
      ]
    },
    {
      "cell_type": "code",
      "metadata": {
        "colab_type": "code",
        "id": "JVFG9dju4H2R",
        "colab": {
          "base_uri": "https://localhost:8080/",
          "height": 312
        },
        "outputId": "d120656e-c0e1-4270-df69-40261f055952"
      },
      "source": [
        "plt.plot(train_cost_cnn2, label =\"training cost\")\n",
        "plt.plot(val_cost_cnn2, label =\"validation cost\")\n",
        "plt.title(\" Training and validation cost plots for base CNN2 model\")\n",
        "plt.xlabel(\"Epochs\")\n",
        "plt.ylabel(\" Categorical Cross entropy\")\n",
        "plt.legend()"
      ],
      "execution_count": 163,
      "outputs": [
        {
          "output_type": "execute_result",
          "data": {
            "text/plain": [
              "<matplotlib.legend.Legend at 0x7fcbcb2acc50>"
            ]
          },
          "metadata": {
            "tags": []
          },
          "execution_count": 163
        },
        {
          "output_type": "display_data",
          "data": {
            "image/png": "[encoded data removed]",
            "text/plain": [
              "<Figure size 432x288 with 1 Axes>"
            ]
          },
          "metadata": {
            "tags": [],
            "needs_background": "light"
          }
        }
      ]
    },
    {
      "cell_type": "markdown",
      "metadata": {
        "id": "i7tvuNFObWK4",
        "colab_type": "text"
      },
      "source": [
        "## Calculating test set accuarcies for base MLP and CNN models"
      ]
    },
    {
      "cell_type": "markdown",
      "metadata": {
        "id": "r8gKD3Eu4Txt",
        "colab_type": "text"
      },
      "source": [
        "### test set performance of base MLP model"
      ]
    },
    {
      "cell_type": "code",
      "metadata": {
        "id": "4IxDuZlrxWZ1",
        "colab_type": "code",
        "colab": {
          "base_uri": "https://localhost:8080/",
          "height": 33
        },
        "outputId": "d07fa74c-55e9-4806-ad1d-6dccce2562b3"
      },
      "source": [
        "# predicting model performance\n",
        "y_pred = model.predict(x_test)\n",
        "\n",
        "# mapping max probabibilities to corresponding classes\n",
        "y_pred_one_hot = np.zeros(y_pred.shape)\n",
        "for i in range(len(y_pred)):\n",
        "  temp = np.argmax(y_pred[i,:])\n",
        "  y_pred_one_hot[i,temp]=1\n",
        "\n",
        "# comparing the output with actual output\n",
        "corr=0\n",
        "for i in range(y_test_p.shape[0]):\n",
        "    temp1 = np.argmax(y_test_p[i,:])\n",
        "    temp2 = np.argmax(y_pred_one_hot[i,:])\n",
        "    if(temp1 == temp2):\n",
        "      corr= corr+1\n",
        "\n",
        "test_accuracy = corr/y_pred_one_hot.shape[0]\n",
        "print(f\"test set accuarcy for base model is {test_accuracy}\")"
      ],
      "execution_count": 164,
      "outputs": [
        {
          "output_type": "stream",
          "text": [
            "test set accuarcy for base model is 0.3406\n"
          ],
          "name": "stdout"
        }
      ]
    },
    {
      "cell_type": "markdown",
      "metadata": {
        "id": "NozgzOOF4j9d",
        "colab_type": "text"
      },
      "source": [
        "### test set performance of CNN1 Model"
      ]
    },
    {
      "cell_type": "code",
      "metadata": {
        "colab_type": "code",
        "id": "mx5WCnJRbqKA",
        "colab": {
          "base_uri": "https://localhost:8080/",
          "height": 33
        },
        "outputId": "b5e6a9e1-3d31-4b9a-ae1c-f109417fada8"
      },
      "source": [
        "# predicting model performance\n",
        "y_pred = model_cnn1.predict(x_test)\n",
        "y_pred_one_hot = np.zeros(y_pred.shape)\n",
        "\n",
        "# mapping max probabibilities to corresponding classes\n",
        "for i in range(len(y_pred)):\n",
        "  temp = np.argmax(y_pred[i,:])\n",
        "  y_pred_one_hot[i,temp]=1\n",
        "\n",
        "# comparing the output with actual output\n",
        "corr=0\n",
        "for i in range(y_test_p.shape[0]):\n",
        "    temp1 = np.argmax(y_test_p[i,:])\n",
        "    temp2 = np.argmax(y_pred_one_hot[i,:])\n",
        "    if(temp1 == temp2):\n",
        "      corr= corr+1\n",
        "\n",
        "test_accuracy = corr/y_pred_one_hot.shape[0]\n",
        "\n",
        "print(f\"test set accuarcy for CNN1 model is {test_accuracy}\")\n"
      ],
      "execution_count": 165,
      "outputs": [
        {
          "output_type": "stream",
          "text": [
            "test set accuarcy for CNN1 model is 0.4454\n"
          ],
          "name": "stdout"
        }
      ]
    },
    {
      "cell_type": "markdown",
      "metadata": {
        "id": "uLQIYkq543i6",
        "colab_type": "text"
      },
      "source": [
        "### test set performance of CNN2 Model"
      ]
    },
    {
      "cell_type": "code",
      "metadata": {
        "id": "bbwxIb1I5E5I",
        "colab_type": "code",
        "colab": {
          "base_uri": "https://localhost:8080/",
          "height": 33
        },
        "outputId": "fdd6449e-cc55-4e66-e2c4-07c617cb28fa"
      },
      "source": [
        "# predicting model performance\n",
        "y_pred = model_cnn2.predict(x_test)\n",
        "y_pred_one_hot = np.zeros(y_pred.shape)\n",
        "\n",
        "# mapping max probabibilities to corresponding classes\n",
        "for i in range(len(y_pred)):\n",
        "  temp = np.argmax(y_pred[i,:])\n",
        "  y_pred_one_hot[i,temp]=1\n",
        "\n",
        "# comparing the output with actual output\n",
        "corr=0\n",
        "for i in range(y_test_p.shape[0]):\n",
        "    temp1 = np.argmax(y_test_p[i,:])\n",
        "    temp2 = np.argmax(y_pred_one_hot[i,:])\n",
        "    if(temp1 == temp2):\n",
        "      corr= corr+1\n",
        "\n",
        "test_accuracy = corr/y_pred_one_hot.shape[0]\n",
        "print(f\"test set accuarcy for CNN2 model is {test_accuracy}\")"
      ],
      "execution_count": 166,
      "outputs": [
        {
          "output_type": "stream",
          "text": [
            "test set accuarcy for CNN2 model is 0.4346\n"
          ],
          "name": "stdout"
        }
      ]
    },
    {
      "cell_type": "code",
      "metadata": {
        "id": "Dki7Ouzl6BQk",
        "colab_type": "code",
        "colab": {}
      },
      "source": [
        ""
      ],
      "execution_count": 1,
      "outputs": []
    },
    {
      "cell_type": "code",
      "metadata": {
        "id": "lbfpWYo3P85C",
        "colab_type": "code",
        "colab": {}
      },
      "source": [
        ""
      ],
      "execution_count": null,
      "outputs": []
    }
  ]
}